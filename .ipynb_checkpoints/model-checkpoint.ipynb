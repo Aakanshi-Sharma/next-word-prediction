{
 "cells": [
  {
   "cell_type": "code",
   "execution_count": 1,
   "id": "efcd9058",
   "metadata": {},
   "outputs": [],
   "source": [
    "import numpy as np\n",
    "import pandas as pd\n",
    "import tensorflow as tf\n",
    "from tensorflow import keras\n",
    "from tensorflow.keras import layers, models\n",
    "from keras.preprocessing.text import Tokenizer\n",
    "from keras.utils import to_categorical\n"
   ]
  },
  {
   "cell_type": "code",
   "execution_count": 2,
   "id": "091db69d",
   "metadata": {},
   "outputs": [],
   "source": [
    "df=pd.read_fwf(\"pride_book.txt\", header=None)"
   ]
  },
  {
   "cell_type": "code",
   "execution_count": 3,
   "id": "7ea7d237",
   "metadata": {},
   "outputs": [
    {
     "data": {
      "text/html": [
       "<div>\n",
       "<style scoped>\n",
       "    .dataframe tbody tr th:only-of-type {\n",
       "        vertical-align: middle;\n",
       "    }\n",
       "\n",
       "    .dataframe tbody tr th {\n",
       "        vertical-align: top;\n",
       "    }\n",
       "\n",
       "    .dataframe thead th {\n",
       "        text-align: right;\n",
       "    }\n",
       "</style>\n",
       "<table border=\"1\" class=\"dataframe\">\n",
       "  <thead>\n",
       "    <tr style=\"text-align: right;\">\n",
       "      <th></th>\n",
       "      <th>0</th>\n",
       "    </tr>\n",
       "  </thead>\n",
       "  <tbody>\n",
       "    <tr>\n",
       "      <th>0</th>\n",
       "      <td>The Project Gutenberg eBook of Pride and preju...</td>\n",
       "    </tr>\n",
       "    <tr>\n",
       "      <th>1</th>\n",
       "      <td>This eBook is for the use of anyone anywhere i...</td>\n",
       "    </tr>\n",
       "    <tr>\n",
       "      <th>2</th>\n",
       "      <td>most other parts of the world at no cost and w...</td>\n",
       "    </tr>\n",
       "    <tr>\n",
       "      <th>3</th>\n",
       "      <td>whatsoever. You may copy it, give it away or r...</td>\n",
       "    </tr>\n",
       "    <tr>\n",
       "      <th>4</th>\n",
       "      <td>of the Project Gutenberg License included with...</td>\n",
       "    </tr>\n",
       "  </tbody>\n",
       "</table>\n",
       "</div>"
      ],
      "text/plain": [
       "                                                   0\n",
       "0  The Project Gutenberg eBook of Pride and preju...\n",
       "1  This eBook is for the use of anyone anywhere i...\n",
       "2  most other parts of the world at no cost and w...\n",
       "3  whatsoever. You may copy it, give it away or r...\n",
       "4  of the Project Gutenberg License included with..."
      ]
     },
     "execution_count": 3,
     "metadata": {},
     "output_type": "execute_result"
    }
   ],
   "source": [
    "df.head()"
   ]
  },
  {
   "cell_type": "code",
   "execution_count": 4,
   "id": "bd96ec04",
   "metadata": {},
   "outputs": [
    {
     "data": {
      "text/plain": [
       "(11886, 1)"
      ]
     },
     "execution_count": 4,
     "metadata": {},
     "output_type": "execute_result"
    }
   ],
   "source": [
    "df.shape"
   ]
  },
  {
   "cell_type": "code",
   "execution_count": 5,
   "id": "d072904a",
   "metadata": {},
   "outputs": [],
   "source": [
    "x=df[0].values"
   ]
  },
  {
   "cell_type": "code",
   "execution_count": 6,
   "id": "bd63dba9",
   "metadata": {},
   "outputs": [
    {
     "data": {
      "text/plain": [
       "array(['The Project Gutenberg eBook of Pride and prejudice, by Jane Austen',\n",
       "       'This eBook is for the use of anyone anywhere in the United States and',\n",
       "       'most other parts of the world at no cost and with almost no restrictions',\n",
       "       'whatsoever. You may copy it, give it away or re-use it under the terms',\n",
       "       'of the Project Gutenberg License included with this eBook or online at'],\n",
       "      dtype=object)"
      ]
     },
     "execution_count": 6,
     "metadata": {},
     "output_type": "execute_result"
    }
   ],
   "source": [
    "x[:5]"
   ]
  },
  {
   "cell_type": "code",
   "execution_count": 7,
   "id": "2f3f61cc",
   "metadata": {},
   "outputs": [],
   "source": [
    "tokenizer=Tokenizer(oov_token=\"nothing\")"
   ]
  },
  {
   "cell_type": "code",
   "execution_count": 8,
   "id": "c7258047",
   "metadata": {},
   "outputs": [],
   "source": [
    "tokenizer.fit_on_texts(x)"
   ]
  },
  {
   "cell_type": "code",
   "execution_count": 9,
   "id": "049549df",
   "metadata": {},
   "outputs": [],
   "source": [
    "l=len(tokenizer.word_index)+1"
   ]
  },
  {
   "cell_type": "code",
   "execution_count": 10,
   "id": "e347eb75",
   "metadata": {},
   "outputs": [],
   "source": [
    "x=tokenizer.texts_to_sequences(x)"
   ]
  },
  {
   "cell_type": "code",
   "execution_count": 11,
   "id": "ea37bf22",
   "metadata": {},
   "outputs": [
    {
     "data": {
      "text/plain": [
       "[[2, 183, 164, 1031, 4, 306, 5, 976, 31, 74, 727],\n",
       " [43, 1031, 25, 23, 2, 516, 4, 561, 2717, 8, 2, 702, 780, 5],\n",
       " [96, 81, 1454, 4, 2, 219, 27, 44, 1614, 5, 22, 248, 44, 2718],\n",
       " [3365, 16, 90, 1092, 14, 135, 14, 141, 53, 1809, 516, 14, 390, 2, 379],\n",
       " [4, 2, 183, 164, 809, 2013, 22, 43, 1031, 53, 2014, 27]]"
      ]
     },
     "execution_count": 11,
     "metadata": {},
     "output_type": "execute_result"
    }
   ],
   "source": [
    "x[:5]"
   ]
  },
  {
   "cell_type": "code",
   "execution_count": 12,
   "id": "12504f80",
   "metadata": {},
   "outputs": [
    {
     "data": {
      "text/plain": [
       "11886"
      ]
     },
     "execution_count": 12,
     "metadata": {},
     "output_type": "execute_result"
    }
   ],
   "source": [
    "len(x)"
   ]
  },
  {
   "cell_type": "code",
   "execution_count": 13,
   "id": "e8620b18",
   "metadata": {},
   "outputs": [
    {
     "data": {
      "text/plain": [
       "[[2, 183],\n",
       " [183, 164],\n",
       " [164, 1031],\n",
       " [1031, 4],\n",
       " [4, 306],\n",
       " [306, 5],\n",
       " [5, 976],\n",
       " [976, 31],\n",
       " [31, 74],\n",
       " [74, 727]]"
      ]
     },
     "execution_count": 13,
     "metadata": {},
     "output_type": "execute_result"
    }
   ],
   "source": [
    "# creating list of all pairs\n",
    "x_list=[]\n",
    "for i in x[:len(x)//2]:\n",
    "    l=len(i)\n",
    "    for j in range(l-1):\n",
    "        x_list.append([i[j],i[j+1]])\n",
    "x_list[:10]"
   ]
  },
  {
   "cell_type": "code",
   "execution_count": 14,
   "id": "b756bd39",
   "metadata": {},
   "outputs": [
    {
     "data": {
      "text/plain": [
       "59853"
      ]
     },
     "execution_count": 14,
     "metadata": {},
     "output_type": "execute_result"
    }
   ],
   "source": [
    "len(x_list)"
   ]
  },
  {
   "cell_type": "code",
   "execution_count": 15,
   "id": "5e25ea29",
   "metadata": {},
   "outputs": [],
   "source": [
    "x_set=[i[0] for i in x_list]\n",
    "y_set=[i[1] for i in x_list]"
   ]
  },
  {
   "cell_type": "code",
   "execution_count": 16,
   "id": "ec148ed2",
   "metadata": {},
   "outputs": [
    {
     "data": {
      "text/plain": [
       "[2, 183, 164, 1031, 4]"
      ]
     },
     "execution_count": 16,
     "metadata": {},
     "output_type": "execute_result"
    }
   ],
   "source": [
    "x_set[:5]"
   ]
  },
  {
   "cell_type": "code",
   "execution_count": 17,
   "id": "2dfcc0f9",
   "metadata": {},
   "outputs": [
    {
     "data": {
      "text/plain": [
       "[183, 164, 1031, 4, 306]"
      ]
     },
     "execution_count": 17,
     "metadata": {},
     "output_type": "execute_result"
    }
   ],
   "source": [
    "y_set[:5]"
   ]
  },
  {
   "cell_type": "code",
   "execution_count": 18,
   "id": "e3159336",
   "metadata": {},
   "outputs": [],
   "source": [
    "vocal_size=len(tokenizer.word_index)+1"
   ]
  },
  {
   "cell_type": "code",
   "execution_count": 19,
   "id": "547a66b8",
   "metadata": {},
   "outputs": [],
   "source": [
    "y_set=to_categorical(y_set, num_classes=8000)"
   ]
  },
  {
   "cell_type": "code",
   "execution_count": 20,
   "id": "ed272202",
   "metadata": {},
   "outputs": [
    {
     "data": {
      "text/plain": [
       "8000"
      ]
     },
     "execution_count": 20,
     "metadata": {},
     "output_type": "execute_result"
    }
   ],
   "source": [
    "len(y_set[0])"
   ]
  },
  {
   "cell_type": "code",
   "execution_count": 21,
   "id": "6d7ddf2a",
   "metadata": {},
   "outputs": [],
   "source": [
    "model=models.Sequential([\n",
    "    layers.Embedding(8000,10,input_length=1),\n",
    "    layers.LSTM(50),\n",
    "    layers.Dense(8000, activation=\"softmax\")\n",
    "])"
   ]
  },
  {
   "cell_type": "code",
   "execution_count": 22,
   "id": "4f69faa6",
   "metadata": {},
   "outputs": [
    {
     "name": "stdout",
     "output_type": "stream",
     "text": [
      "Model: \"sequential\"\n",
      "_________________________________________________________________\n",
      " Layer (type)                Output Shape              Param #   \n",
      "=================================================================\n",
      " embedding (Embedding)       (None, 1, 10)             80000     \n",
      "                                                                 \n",
      " lstm (LSTM)                 (None, 50)                12200     \n",
      "                                                                 \n",
      " dense (Dense)               (None, 8000)              408000    \n",
      "                                                                 \n",
      "=================================================================\n",
      "Total params: 500200 (1.91 MB)\n",
      "Trainable params: 500200 (1.91 MB)\n",
      "Non-trainable params: 0 (0.00 Byte)\n",
      "_________________________________________________________________\n"
     ]
    }
   ],
   "source": [
    "model.summary()"
   ]
  },
  {
   "cell_type": "code",
   "execution_count": 23,
   "id": "33869980",
   "metadata": {},
   "outputs": [],
   "source": [
    "model.compile(optimizer=\"adam\", loss=\"categorical_crossentropy\", metrics=[\"accuracy\"])"
   ]
  },
  {
   "cell_type": "code",
   "execution_count": 24,
   "id": "e9e0ca11",
   "metadata": {},
   "outputs": [],
   "source": [
    "x_set=np.array(x_set)\n",
    "y_set=np.array(y_set)"
   ]
  },
  {
   "cell_type": "code",
   "execution_count": 25,
   "id": "f605b766",
   "metadata": {},
   "outputs": [
    {
     "name": "stdout",
     "output_type": "stream",
     "text": [
      "Epoch 1/200\n",
      "1871/1871 [==============================] - 58s 26ms/step - loss: 6.6443 - accuracy: 0.0364\n",
      "Epoch 2/200\n",
      "1871/1871 [==============================] - 47s 25ms/step - loss: 6.1640 - accuracy: 0.0417\n",
      "Epoch 3/200\n",
      "1871/1871 [==============================] - 47s 25ms/step - loss: 6.0021 - accuracy: 0.0529\n",
      "Epoch 4/200\n",
      "1871/1871 [==============================] - 57s 31ms/step - loss: 5.8261 - accuracy: 0.0690\n",
      "Epoch 5/200\n",
      "1871/1871 [==============================] - 51s 27ms/step - loss: 5.6365 - accuracy: 0.0962\n",
      "Epoch 6/200\n",
      "1871/1871 [==============================] - 51s 27ms/step - loss: 5.4465 - accuracy: 0.1132\n",
      "Epoch 7/200\n",
      "1871/1871 [==============================] - 47s 25ms/step - loss: 5.3065 - accuracy: 0.1260\n",
      "Epoch 8/200\n",
      "1871/1871 [==============================] - 56s 30ms/step - loss: 5.2002 - accuracy: 0.1372\n",
      "Epoch 9/200\n",
      "1871/1871 [==============================] - 53s 28ms/step - loss: 5.1103 - accuracy: 0.1433\n",
      "Epoch 10/200\n",
      "1871/1871 [==============================] - 62s 33ms/step - loss: 5.0297 - accuracy: 0.1496\n",
      "Epoch 11/200\n",
      "1871/1871 [==============================] - 49s 26ms/step - loss: 4.9551 - accuracy: 0.1548\n",
      "Epoch 12/200\n",
      "1871/1871 [==============================] - 59s 32ms/step - loss: 4.8877 - accuracy: 0.1601\n",
      "Epoch 13/200\n",
      "1871/1871 [==============================] - 52s 28ms/step - loss: 4.8262 - accuracy: 0.1652\n",
      "Epoch 14/200\n",
      "1871/1871 [==============================] - 52s 28ms/step - loss: 4.7708 - accuracy: 0.1680\n",
      "Epoch 15/200\n",
      "1871/1871 [==============================] - 70s 37ms/step - loss: 4.7191 - accuracy: 0.1711\n",
      "Epoch 16/200\n",
      "1871/1871 [==============================] - 55s 29ms/step - loss: 4.6729 - accuracy: 0.1751\n",
      "Epoch 17/200\n",
      "1871/1871 [==============================] - 47s 25ms/step - loss: 4.6312 - accuracy: 0.1774\n",
      "Epoch 18/200\n",
      "1871/1871 [==============================] - 39s 21ms/step - loss: 4.5919 - accuracy: 0.1791\n",
      "Epoch 19/200\n",
      "1871/1871 [==============================] - 43s 23ms/step - loss: 4.5573 - accuracy: 0.1811\n",
      "Epoch 20/200\n",
      "1871/1871 [==============================] - 44s 23ms/step - loss: 4.5240 - accuracy: 0.1841\n",
      "Epoch 21/200\n",
      "1871/1871 [==============================] - 41s 22ms/step - loss: 4.4929 - accuracy: 0.1839\n",
      "Epoch 22/200\n",
      "1871/1871 [==============================] - 39s 21ms/step - loss: 4.4642 - accuracy: 0.1868\n",
      "Epoch 23/200\n",
      "1871/1871 [==============================] - 43s 23ms/step - loss: 4.4364 - accuracy: 0.1878\n",
      "Epoch 24/200\n",
      "1871/1871 [==============================] - 43s 23ms/step - loss: 4.4107 - accuracy: 0.1891\n",
      "Epoch 25/200\n",
      "1871/1871 [==============================] - 41s 22ms/step - loss: 4.3865 - accuracy: 0.1907\n",
      "Epoch 26/200\n",
      "1871/1871 [==============================] - 39s 21ms/step - loss: 4.3638 - accuracy: 0.1925\n",
      "Epoch 27/200\n",
      "1871/1871 [==============================] - 38s 20ms/step - loss: 4.3423 - accuracy: 0.1933\n",
      "Epoch 28/200\n",
      "1871/1871 [==============================] - 38s 20ms/step - loss: 4.3213 - accuracy: 0.1937\n",
      "Epoch 29/200\n",
      "1871/1871 [==============================] - 40s 21ms/step - loss: 4.3015 - accuracy: 0.1938\n",
      "Epoch 30/200\n",
      "1871/1871 [==============================] - 51s 27ms/step - loss: 4.2826 - accuracy: 0.1961\n",
      "Epoch 31/200\n",
      "1871/1871 [==============================] - 45s 24ms/step - loss: 4.2643 - accuracy: 0.1964\n",
      "Epoch 32/200\n",
      "1871/1871 [==============================] - 46s 25ms/step - loss: 4.2478 - accuracy: 0.1981\n",
      "Epoch 33/200\n",
      "1871/1871 [==============================] - 41s 22ms/step - loss: 4.2316 - accuracy: 0.1984\n",
      "Epoch 34/200\n",
      "1871/1871 [==============================] - 36s 19ms/step - loss: 4.2160 - accuracy: 0.1995\n",
      "Epoch 35/200\n",
      "1871/1871 [==============================] - 38s 20ms/step - loss: 4.2015 - accuracy: 0.1995\n",
      "Epoch 36/200\n",
      "1871/1871 [==============================] - 38s 20ms/step - loss: 4.1866 - accuracy: 0.1992\n",
      "Epoch 37/200\n",
      "1871/1871 [==============================] - 34s 18ms/step - loss: 4.1722 - accuracy: 0.2000\n",
      "Epoch 38/200\n",
      "1871/1871 [==============================] - 33s 18ms/step - loss: 4.1593 - accuracy: 0.2011\n",
      "Epoch 39/200\n",
      "1871/1871 [==============================] - 36s 19ms/step - loss: 4.1471 - accuracy: 0.2010\n",
      "Epoch 40/200\n",
      "1871/1871 [==============================] - 39s 21ms/step - loss: 4.1360 - accuracy: 0.2008\n",
      "Epoch 41/200\n",
      "1871/1871 [==============================] - 38s 20ms/step - loss: 4.1242 - accuracy: 0.2003\n",
      "Epoch 42/200\n",
      "1871/1871 [==============================] - 36s 19ms/step - loss: 4.1133 - accuracy: 0.2007\n",
      "Epoch 43/200\n",
      "1871/1871 [==============================] - 34s 18ms/step - loss: 4.1025 - accuracy: 0.2012\n",
      "Epoch 44/200\n",
      "1871/1871 [==============================] - 37s 20ms/step - loss: 4.0934 - accuracy: 0.2025\n",
      "Epoch 45/200\n",
      "1871/1871 [==============================] - 37s 20ms/step - loss: 4.0833 - accuracy: 0.2020\n",
      "Epoch 46/200\n",
      "1871/1871 [==============================] - 36s 19ms/step - loss: 4.0748 - accuracy: 0.2033\n",
      "Epoch 47/200\n",
      "1871/1871 [==============================] - 34s 18ms/step - loss: 4.0657 - accuracy: 0.2018\n",
      "Epoch 48/200\n",
      "1871/1871 [==============================] - 38s 20ms/step - loss: 4.0578 - accuracy: 0.2022\n",
      "Epoch 49/200\n",
      "1871/1871 [==============================] - 42s 23ms/step - loss: 4.0505 - accuracy: 0.2020\n",
      "Epoch 50/200\n",
      "1871/1871 [==============================] - 47s 25ms/step - loss: 4.0421 - accuracy: 0.2020\n",
      "Epoch 51/200\n",
      "1871/1871 [==============================] - 50s 27ms/step - loss: 4.0341 - accuracy: 0.2033\n",
      "Epoch 52/200\n",
      "1871/1871 [==============================] - 45s 24ms/step - loss: 4.0279 - accuracy: 0.2020\n",
      "Epoch 53/200\n",
      "1871/1871 [==============================] - 46s 25ms/step - loss: 4.0204 - accuracy: 0.2022\n",
      "Epoch 54/200\n",
      "1871/1871 [==============================] - 47s 25ms/step - loss: 4.0143 - accuracy: 0.2018\n",
      "Epoch 55/200\n",
      "1871/1871 [==============================] - 41s 22ms/step - loss: 4.0077 - accuracy: 0.2021\n",
      "Epoch 56/200\n",
      "1871/1871 [==============================] - 35s 19ms/step - loss: 4.0014 - accuracy: 0.2016\n",
      "Epoch 57/200\n",
      "1871/1871 [==============================] - 36s 19ms/step - loss: 3.9955 - accuracy: 0.2026\n",
      "Epoch 58/200\n",
      "1871/1871 [==============================] - 34s 18ms/step - loss: 3.9903 - accuracy: 0.2026\n",
      "Epoch 59/200\n",
      "1871/1871 [==============================] - 41s 22ms/step - loss: 3.9848 - accuracy: 0.2018\n",
      "Epoch 60/200\n",
      "1871/1871 [==============================] - 43s 23ms/step - loss: 3.9795 - accuracy: 0.2024\n",
      "Epoch 61/200\n",
      "1871/1871 [==============================] - 33s 18ms/step - loss: 3.9742 - accuracy: 0.2024\n",
      "Epoch 62/200\n",
      "1871/1871 [==============================] - 33s 18ms/step - loss: 3.9688 - accuracy: 0.2021\n",
      "Epoch 63/200\n",
      "1871/1871 [==============================] - 33s 18ms/step - loss: 3.9638 - accuracy: 0.2030\n",
      "Epoch 64/200\n",
      "1871/1871 [==============================] - 39s 21ms/step - loss: 3.9599 - accuracy: 0.2017\n",
      "Epoch 65/200\n",
      "1871/1871 [==============================] - 36s 19ms/step - loss: 3.9545 - accuracy: 0.2018\n",
      "Epoch 66/200\n",
      "1871/1871 [==============================] - 33s 18ms/step - loss: 3.9506 - accuracy: 0.2012\n",
      "Epoch 67/200\n",
      "1871/1871 [==============================] - 36s 19ms/step - loss: 3.9468 - accuracy: 0.2023\n",
      "Epoch 68/200\n",
      "1871/1871 [==============================] - 35s 19ms/step - loss: 3.9425 - accuracy: 0.2010\n",
      "Epoch 69/200\n",
      "1871/1871 [==============================] - 34s 18ms/step - loss: 3.9379 - accuracy: 0.2020\n",
      "Epoch 70/200\n",
      "1871/1871 [==============================] - 36s 19ms/step - loss: 3.9337 - accuracy: 0.2022\n",
      "Epoch 71/200\n",
      "1871/1871 [==============================] - 35s 19ms/step - loss: 3.9307 - accuracy: 0.2015\n",
      "Epoch 72/200\n",
      "1871/1871 [==============================] - 35s 19ms/step - loss: 3.9271 - accuracy: 0.2032\n",
      "Epoch 73/200\n",
      "1871/1871 [==============================] - 41s 22ms/step - loss: 3.9235 - accuracy: 0.2022\n",
      "Epoch 74/200\n",
      "1871/1871 [==============================] - 52s 28ms/step - loss: 3.9196 - accuracy: 0.2019\n",
      "Epoch 75/200\n",
      "1871/1871 [==============================] - 37s 20ms/step - loss: 3.9175 - accuracy: 0.2019\n",
      "Epoch 76/200\n",
      "1871/1871 [==============================] - 47s 25ms/step - loss: 3.9131 - accuracy: 0.2024\n",
      "Epoch 77/200\n",
      "1871/1871 [==============================] - 37s 20ms/step - loss: 3.9105 - accuracy: 0.2012\n",
      "Epoch 78/200\n"
     ]
    },
    {
     "name": "stdout",
     "output_type": "stream",
     "text": [
      "1871/1871 [==============================] - 43s 23ms/step - loss: 3.9077 - accuracy: 0.2031\n",
      "Epoch 79/200\n",
      "1871/1871 [==============================] - 43s 23ms/step - loss: 3.9047 - accuracy: 0.2013\n",
      "Epoch 80/200\n",
      "1871/1871 [==============================] - 40s 21ms/step - loss: 3.9013 - accuracy: 0.2015\n",
      "Epoch 81/200\n",
      "1871/1871 [==============================] - 34s 18ms/step - loss: 3.8989 - accuracy: 0.2021\n",
      "Epoch 82/200\n",
      "1871/1871 [==============================] - 29s 15ms/step - loss: 3.8957 - accuracy: 0.2019\n",
      "Epoch 83/200\n",
      "1871/1871 [==============================] - 29s 16ms/step - loss: 3.8937 - accuracy: 0.2022\n",
      "Epoch 84/200\n",
      "1871/1871 [==============================] - 30s 16ms/step - loss: 3.8907 - accuracy: 0.2014\n",
      "Epoch 85/200\n",
      "1871/1871 [==============================] - 29s 15ms/step - loss: 3.8887 - accuracy: 0.2021\n",
      "Epoch 86/200\n",
      "1871/1871 [==============================] - 29s 16ms/step - loss: 3.8853 - accuracy: 0.2014\n",
      "Epoch 87/200\n",
      "1871/1871 [==============================] - 30s 16ms/step - loss: 3.8835 - accuracy: 0.2023\n",
      "Epoch 88/200\n",
      "1871/1871 [==============================] - 32s 17ms/step - loss: 3.8813 - accuracy: 0.2025\n",
      "Epoch 89/200\n",
      "1871/1871 [==============================] - 31s 17ms/step - loss: 3.8791 - accuracy: 0.2024\n",
      "Epoch 90/200\n",
      "1871/1871 [==============================] - 30s 16ms/step - loss: 3.8767 - accuracy: 0.2016\n",
      "Epoch 91/200\n",
      "1871/1871 [==============================] - 30s 16ms/step - loss: 3.8743 - accuracy: 0.2018\n",
      "Epoch 92/200\n",
      "1871/1871 [==============================] - 30s 16ms/step - loss: 3.8724 - accuracy: 0.2024\n",
      "Epoch 93/200\n",
      "1871/1871 [==============================] - 31s 17ms/step - loss: 3.8707 - accuracy: 0.2016\n",
      "Epoch 94/200\n",
      "1871/1871 [==============================] - 30s 16ms/step - loss: 3.8684 - accuracy: 0.2038\n",
      "Epoch 95/200\n",
      "1871/1871 [==============================] - 30s 16ms/step - loss: 3.8669 - accuracy: 0.2018\n",
      "Epoch 96/200\n",
      "1871/1871 [==============================] - 33s 18ms/step - loss: 3.8641 - accuracy: 0.2020\n",
      "Epoch 97/200\n",
      "1871/1871 [==============================] - 36s 19ms/step - loss: 3.8629 - accuracy: 0.2013\n",
      "Epoch 98/200\n",
      "1871/1871 [==============================] - 32s 17ms/step - loss: 3.8604 - accuracy: 0.2012\n",
      "Epoch 99/200\n",
      "1871/1871 [==============================] - 30s 16ms/step - loss: 3.8595 - accuracy: 0.2016\n",
      "Epoch 100/200\n",
      "1871/1871 [==============================] - 31s 16ms/step - loss: 3.8569 - accuracy: 0.2022\n",
      "Epoch 101/200\n",
      "1871/1871 [==============================] - 30s 16ms/step - loss: 3.8551 - accuracy: 0.2014\n",
      "Epoch 102/200\n",
      "1871/1871 [==============================] - 30s 16ms/step - loss: 3.8537 - accuracy: 0.2013\n",
      "Epoch 103/200\n",
      "1871/1871 [==============================] - 34s 18ms/step - loss: 3.8524 - accuracy: 0.2006\n",
      "Epoch 104/200\n",
      "1871/1871 [==============================] - 37s 20ms/step - loss: 3.8510 - accuracy: 0.2023\n",
      "Epoch 105/200\n",
      "1871/1871 [==============================] - 34s 18ms/step - loss: 3.8483 - accuracy: 0.2017\n",
      "Epoch 106/200\n",
      "1871/1871 [==============================] - 32s 17ms/step - loss: 3.8475 - accuracy: 0.2015\n",
      "Epoch 107/200\n",
      "1871/1871 [==============================] - 3288s 2s/step - loss: 3.8457 - accuracy: 0.2020\n",
      "Epoch 108/200\n",
      "1871/1871 [==============================] - 36s 19ms/step - loss: 3.8448 - accuracy: 0.2015\n",
      "Epoch 109/200\n",
      "1871/1871 [==============================] - 43s 23ms/step - loss: 3.8435 - accuracy: 0.2022\n",
      "Epoch 110/200\n",
      "1871/1871 [==============================] - 35s 19ms/step - loss: 3.8405 - accuracy: 0.2029\n",
      "Epoch 111/200\n",
      "1871/1871 [==============================] - 37s 20ms/step - loss: 3.8398 - accuracy: 0.2019\n",
      "Epoch 112/200\n",
      "1871/1871 [==============================] - 34s 18ms/step - loss: 3.8385 - accuracy: 0.2011\n",
      "Epoch 113/200\n",
      "1871/1871 [==============================] - 36s 19ms/step - loss: 3.8375 - accuracy: 0.2015\n",
      "Epoch 114/200\n",
      "1871/1871 [==============================] - 41s 22ms/step - loss: 3.8354 - accuracy: 0.2017\n",
      "Epoch 115/200\n",
      "1871/1871 [==============================] - 39s 21ms/step - loss: 3.8351 - accuracy: 0.2010\n",
      "Epoch 116/200\n",
      "1871/1871 [==============================] - 29s 15ms/step - loss: 3.8340 - accuracy: 0.2023\n",
      "Epoch 117/200\n",
      "1871/1871 [==============================] - 29s 15ms/step - loss: 3.8322 - accuracy: 0.2018\n",
      "Epoch 118/200\n",
      "1871/1871 [==============================] - 36s 19ms/step - loss: 3.8308 - accuracy: 0.2010\n",
      "Epoch 119/200\n",
      "1871/1871 [==============================] - 47s 25ms/step - loss: 3.8295 - accuracy: 0.2016\n",
      "Epoch 120/200\n",
      "1871/1871 [==============================] - 41s 22ms/step - loss: 3.8291 - accuracy: 0.2031\n",
      "Epoch 121/200\n",
      "1871/1871 [==============================] - 34s 18ms/step - loss: 3.8271 - accuracy: 0.2019\n",
      "Epoch 122/200\n",
      "1871/1871 [==============================] - 36s 19ms/step - loss: 3.8262 - accuracy: 0.2018\n",
      "Epoch 123/200\n",
      "1871/1871 [==============================] - 39s 21ms/step - loss: 3.8248 - accuracy: 0.2017\n",
      "Epoch 124/200\n",
      "1871/1871 [==============================] - 39s 21ms/step - loss: 3.8239 - accuracy: 0.2015\n",
      "Epoch 125/200\n",
      "1871/1871 [==============================] - 34s 18ms/step - loss: 3.8222 - accuracy: 0.2017\n",
      "Epoch 126/200\n",
      "1871/1871 [==============================] - 36s 19ms/step - loss: 3.8219 - accuracy: 0.2023\n",
      "Epoch 127/200\n",
      "1871/1871 [==============================] - 35s 19ms/step - loss: 3.8204 - accuracy: 0.2010\n",
      "Epoch 128/200\n",
      "1871/1871 [==============================] - 52s 28ms/step - loss: 3.8195 - accuracy: 0.2019\n",
      "Epoch 129/200\n",
      "1871/1871 [==============================] - 45s 24ms/step - loss: 3.8181 - accuracy: 0.2007\n",
      "Epoch 130/200\n",
      "1871/1871 [==============================] - 35s 19ms/step - loss: 3.8178 - accuracy: 0.2010\n",
      "Epoch 131/200\n",
      "1871/1871 [==============================] - 37s 20ms/step - loss: 3.8169 - accuracy: 0.2018\n",
      "Epoch 132/200\n",
      "1871/1871 [==============================] - 38s 21ms/step - loss: 3.8156 - accuracy: 0.2014\n",
      "Epoch 133/200\n",
      "1871/1871 [==============================] - 30s 16ms/step - loss: 3.8149 - accuracy: 0.2015\n",
      "Epoch 134/200\n",
      "1871/1871 [==============================] - 30s 16ms/step - loss: 3.8135 - accuracy: 0.2015\n",
      "Epoch 135/200\n",
      "1871/1871 [==============================] - 38s 20ms/step - loss: 3.8123 - accuracy: 0.2023\n",
      "Epoch 136/200\n",
      "1871/1871 [==============================] - 35s 19ms/step - loss: 3.8117 - accuracy: 0.1997\n",
      "Epoch 137/200\n",
      "1871/1871 [==============================] - 29s 15ms/step - loss: 3.8095 - accuracy: 0.2025\n",
      "Epoch 138/200\n",
      "1871/1871 [==============================] - 28s 15ms/step - loss: 3.8100 - accuracy: 0.2012\n",
      "Epoch 139/200\n",
      "1871/1871 [==============================] - 43s 23ms/step - loss: 3.8086 - accuracy: 0.2027\n",
      "Epoch 140/200\n",
      "1871/1871 [==============================] - 43s 23ms/step - loss: 3.8079 - accuracy: 0.2010\n",
      "Epoch 141/200\n",
      "1871/1871 [==============================] - 43s 23ms/step - loss: 3.8078 - accuracy: 0.2018\n",
      "Epoch 142/200\n",
      "1871/1871 [==============================] - 43s 23ms/step - loss: 3.8072 - accuracy: 0.2014\n",
      "Epoch 143/200\n",
      "1871/1871 [==============================] - 41s 22ms/step - loss: 3.8051 - accuracy: 0.2016\n",
      "Epoch 144/200\n",
      "1871/1871 [==============================] - 44s 23ms/step - loss: 3.8052 - accuracy: 0.2015\n",
      "Epoch 145/200\n",
      "1871/1871 [==============================] - 43s 23ms/step - loss: 3.8035 - accuracy: 0.2009\n",
      "Epoch 146/200\n",
      "1871/1871 [==============================] - 42s 22ms/step - loss: 3.8027 - accuracy: 0.2015\n",
      "Epoch 147/200\n",
      "1871/1871 [==============================] - 42s 22ms/step - loss: 3.8028 - accuracy: 0.2008\n",
      "Epoch 148/200\n",
      "1871/1871 [==============================] - 42s 22ms/step - loss: 3.8021 - accuracy: 0.2009\n",
      "Epoch 149/200\n",
      "1871/1871 [==============================] - 42s 22ms/step - loss: 3.8011 - accuracy: 0.2011\n",
      "Epoch 150/200\n",
      "1871/1871 [==============================] - 43s 23ms/step - loss: 3.8000 - accuracy: 0.2012\n",
      "Epoch 151/200\n",
      "1871/1871 [==============================] - 56s 30ms/step - loss: 3.7992 - accuracy: 0.2030\n",
      "Epoch 152/200\n",
      "1871/1871 [==============================] - 38s 20ms/step - loss: 3.7986 - accuracy: 0.2026\n",
      "Epoch 153/200\n",
      "1871/1871 [==============================] - 36s 19ms/step - loss: 3.7974 - accuracy: 0.2009\n",
      "Epoch 154/200\n"
     ]
    },
    {
     "name": "stdout",
     "output_type": "stream",
     "text": [
      "1871/1871 [==============================] - 37s 20ms/step - loss: 3.7969 - accuracy: 0.2020\n",
      "Epoch 155/200\n",
      "1871/1871 [==============================] - 39s 21ms/step - loss: 3.7963 - accuracy: 0.2010\n",
      "Epoch 156/200\n",
      "1871/1871 [==============================] - 36s 19ms/step - loss: 3.7957 - accuracy: 0.2020\n",
      "Epoch 157/200\n",
      "1871/1871 [==============================] - 34s 18ms/step - loss: 3.7950 - accuracy: 0.2013\n",
      "Epoch 158/200\n",
      "1871/1871 [==============================] - 36s 19ms/step - loss: 3.7944 - accuracy: 0.2021\n",
      "Epoch 159/200\n",
      "1871/1871 [==============================] - 41s 22ms/step - loss: 3.7935 - accuracy: 0.2015\n",
      "Epoch 160/200\n",
      "1871/1871 [==============================] - 37s 20ms/step - loss: 3.7925 - accuracy: 0.2011\n",
      "Epoch 161/200\n",
      "1871/1871 [==============================] - 42s 22ms/step - loss: 3.7923 - accuracy: 0.2013\n",
      "Epoch 162/200\n",
      "1871/1871 [==============================] - 32s 17ms/step - loss: 3.7912 - accuracy: 0.2009\n",
      "Epoch 163/200\n",
      "1871/1871 [==============================] - 26s 14ms/step - loss: 3.7913 - accuracy: 0.2022\n",
      "Epoch 164/200\n",
      "1871/1871 [==============================] - 27s 14ms/step - loss: 3.7904 - accuracy: 0.2006\n",
      "Epoch 165/200\n",
      "1871/1871 [==============================] - 28s 15ms/step - loss: 3.7897 - accuracy: 0.2021\n",
      "Epoch 166/200\n",
      "1871/1871 [==============================] - 26s 14ms/step - loss: 3.7892 - accuracy: 0.2016\n",
      "Epoch 167/200\n",
      "1871/1871 [==============================] - 26s 14ms/step - loss: 3.7885 - accuracy: 0.2012\n",
      "Epoch 168/200\n",
      "1871/1871 [==============================] - 26s 14ms/step - loss: 3.7873 - accuracy: 0.2007\n",
      "Epoch 169/200\n",
      "1871/1871 [==============================] - 26s 14ms/step - loss: 3.7873 - accuracy: 0.2016\n",
      "Epoch 170/200\n",
      "1871/1871 [==============================] - 26s 14ms/step - loss: 3.7866 - accuracy: 0.2013\n",
      "Epoch 171/200\n",
      "1871/1871 [==============================] - 28s 15ms/step - loss: 3.7859 - accuracy: 0.2016\n",
      "Epoch 172/200\n",
      "1871/1871 [==============================] - 27s 15ms/step - loss: 3.7852 - accuracy: 0.1999\n",
      "Epoch 173/200\n",
      "1871/1871 [==============================] - 27s 14ms/step - loss: 3.7848 - accuracy: 0.2020\n",
      "Epoch 174/200\n",
      "1871/1871 [==============================] - 28s 15ms/step - loss: 3.7840 - accuracy: 0.2012\n",
      "Epoch 175/200\n",
      "1871/1871 [==============================] - 27s 15ms/step - loss: 3.7836 - accuracy: 0.2017\n",
      "Epoch 176/200\n",
      "1871/1871 [==============================] - 28s 15ms/step - loss: 3.7834 - accuracy: 0.2019\n",
      "Epoch 177/200\n",
      "1871/1871 [==============================] - 27s 15ms/step - loss: 3.7822 - accuracy: 0.2010\n",
      "Epoch 178/200\n",
      "1871/1871 [==============================] - 27s 15ms/step - loss: 3.7819 - accuracy: 0.2021\n",
      "Epoch 179/200\n",
      "1871/1871 [==============================] - 34s 18ms/step - loss: 3.7818 - accuracy: 0.2012\n",
      "Epoch 180/200\n",
      "1871/1871 [==============================] - 27s 15ms/step - loss: 3.7799 - accuracy: 0.2009\n",
      "Epoch 181/200\n",
      "1871/1871 [==============================] - 32s 17ms/step - loss: 3.7804 - accuracy: 0.2013\n",
      "Epoch 182/200\n",
      "1871/1871 [==============================] - 29s 16ms/step - loss: 3.7803 - accuracy: 0.2017\n",
      "Epoch 183/200\n",
      "1871/1871 [==============================] - 31s 16ms/step - loss: 3.7797 - accuracy: 0.2012\n",
      "Epoch 184/200\n",
      "1871/1871 [==============================] - 34s 18ms/step - loss: 3.7788 - accuracy: 0.2025\n",
      "Epoch 185/200\n",
      "1871/1871 [==============================] - 38s 20ms/step - loss: 3.7784 - accuracy: 0.2006\n",
      "Epoch 186/200\n",
      "1871/1871 [==============================] - 38s 21ms/step - loss: 3.7781 - accuracy: 0.2012\n",
      "Epoch 187/200\n",
      "1871/1871 [==============================] - 36s 19ms/step - loss: 3.7771 - accuracy: 0.2022\n",
      "Epoch 188/200\n",
      "1871/1871 [==============================] - 30s 16ms/step - loss: 3.7771 - accuracy: 0.2019\n",
      "Epoch 189/200\n",
      "1871/1871 [==============================] - 37s 20ms/step - loss: 3.7765 - accuracy: 0.2009\n",
      "Epoch 190/200\n",
      "1871/1871 [==============================] - 37s 20ms/step - loss: 3.7758 - accuracy: 0.2028\n",
      "Epoch 191/200\n",
      "1871/1871 [==============================] - 31s 16ms/step - loss: 3.7751 - accuracy: 0.2031\n",
      "Epoch 192/200\n",
      "1871/1871 [==============================] - 29s 16ms/step - loss: 3.7757 - accuracy: 0.2013\n",
      "Epoch 193/200\n",
      "1871/1871 [==============================] - 27s 14ms/step - loss: 3.7746 - accuracy: 0.2011\n",
      "Epoch 194/200\n",
      "1871/1871 [==============================] - 27s 14ms/step - loss: 3.7740 - accuracy: 0.2019\n",
      "Epoch 195/200\n",
      "1871/1871 [==============================] - 27s 14ms/step - loss: 3.7741 - accuracy: 0.2019\n",
      "Epoch 196/200\n",
      "1871/1871 [==============================] - 26s 14ms/step - loss: 3.7739 - accuracy: 0.2013\n",
      "Epoch 197/200\n",
      "1871/1871 [==============================] - 27s 14ms/step - loss: 3.7727 - accuracy: 0.2017\n",
      "Epoch 198/200\n",
      "1871/1871 [==============================] - 27s 14ms/step - loss: 3.7722 - accuracy: 0.2018\n",
      "Epoch 199/200\n",
      "1871/1871 [==============================] - 26s 14ms/step - loss: 3.7722 - accuracy: 0.2010\n",
      "Epoch 200/200\n",
      "1871/1871 [==============================] - 26s 14ms/step - loss: 3.7706 - accuracy: 0.2017\n"
     ]
    },
    {
     "data": {
      "text/plain": [
       "<keras.src.callbacks.History at 0x21597db22f0>"
      ]
     },
     "execution_count": 25,
     "metadata": {},
     "output_type": "execute_result"
    }
   ],
   "source": [
    "model.fit(x_set, y_set, epochs=200)"
   ]
  },
  {
   "cell_type": "code",
   "execution_count": 26,
   "id": "a881e67c",
   "metadata": {},
   "outputs": [],
   "source": [
    "def generate(model, tokenizer, word, times):\n",
    "    in_text, out_text=word, word\n",
    "    \n",
    "    \n",
    "    for i in range(times):\n",
    "        encoded_word=tokenizer.texts_to_sequences([in_text])[0]\n",
    "        \n",
    "        encoded_word=np.array(encoded_word)\n",
    "    \n",
    "        y_pred=np.argmax(model.predict(encoded_word))\n",
    "        \n",
    "        out_word=''\n",
    "        \n",
    "        for text_word, index in tokenizer.word_index.items():\n",
    "            if index==y_pred:\n",
    "                out_word=text_word\n",
    "                break\n",
    "        in_text=out_word\n",
    "        out_text=out_text+\" \"+ out_word\n",
    "    return out_text\n",
    "\n",
    "\n",
    "        "
   ]
  },
  {
   "cell_type": "code",
   "execution_count": 27,
   "id": "a9258289",
   "metadata": {},
   "outputs": [
    {
     "name": "stdout",
     "output_type": "stream",
     "text": [
      "1/1 [==============================] - 1s 1s/step\n",
      "1/1 [==============================] - 0s 46ms/step\n",
      "1/1 [==============================] - 0s 41ms/step\n",
      "1/1 [==============================] - 0s 40ms/step\n",
      "1/1 [==============================] - 0s 36ms/step\n",
      "copy it is a very little\n"
     ]
    }
   ],
   "source": [
    "print(generate(model, tokenizer,'copy' , 5))"
   ]
  },
  {
   "cell_type": "code",
   "execution_count": null,
   "id": "27d49d23",
   "metadata": {},
   "outputs": [],
   "source": []
  }
 ],
 "metadata": {
  "kernelspec": {
   "display_name": "Python 3 (ipykernel)",
   "language": "python",
   "name": "python3"
  },
  "language_info": {
   "codemirror_mode": {
    "name": "ipython",
    "version": 3
   },
   "file_extension": ".py",
   "mimetype": "text/x-python",
   "name": "python",
   "nbconvert_exporter": "python",
   "pygments_lexer": "ipython3",
   "version": "3.10.5"
  }
 },
 "nbformat": 4,
 "nbformat_minor": 5
}
