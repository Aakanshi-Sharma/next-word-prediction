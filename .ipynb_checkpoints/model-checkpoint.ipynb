{
 "cells": [
  {
   "cell_type": "code",
   "execution_count": null,
   "id": "efcd9058",
   "metadata": {},
   "outputs": [],
   "source": [
    "import numpy as np\n",
    "import pandas as pd\n",
    "import tensorflow as tf\n",
    "from tensorflow import keras\n",
    "from tensorflow.keras import layers, models\n",
    "from keras.preprocessing.text import Tokenizer\n",
    "from keras.utils import to_categorical\n"
   ]
  },
  {
   "cell_type": "code",
   "execution_count": null,
   "id": "091db69d",
   "metadata": {},
   "outputs": [],
   "source": [
    "df=pd.read_fwf(\"pride_book.txt\", header=None)"
   ]
  },
  {
   "cell_type": "code",
   "execution_count": null,
   "id": "7ea7d237",
   "metadata": {},
   "outputs": [],
   "source": [
    "df.head()"
   ]
  },
  {
   "cell_type": "code",
   "execution_count": null,
   "id": "bd96ec04",
   "metadata": {},
   "outputs": [],
   "source": [
    "df.shape"
   ]
  },
  {
   "cell_type": "code",
   "execution_count": null,
   "id": "d072904a",
   "metadata": {},
   "outputs": [],
   "source": [
    "x=df[0].values"
   ]
  },
  {
   "cell_type": "code",
   "execution_count": null,
   "id": "bd63dba9",
   "metadata": {},
   "outputs": [],
   "source": [
    "x[:5]"
   ]
  },
  {
   "cell_type": "code",
   "execution_count": null,
   "id": "2f3f61cc",
   "metadata": {},
   "outputs": [],
   "source": [
    "tokenizer=Tokenizer(oov_token=\"nothing\")"
   ]
  },
  {
   "cell_type": "code",
   "execution_count": null,
   "id": "c7258047",
   "metadata": {},
   "outputs": [],
   "source": [
    "tokenizer.fit_on_texts(x)"
   ]
  },
  {
   "cell_type": "code",
   "execution_count": null,
   "id": "049549df",
   "metadata": {},
   "outputs": [],
   "source": [
    "l=len(tokenizer.word_index)+1"
   ]
  },
  {
   "cell_type": "code",
   "execution_count": null,
   "id": "e347eb75",
   "metadata": {},
   "outputs": [],
   "source": [
    "x=tokenizer.texts_to_sequences(x)"
   ]
  },
  {
   "cell_type": "code",
   "execution_count": null,
   "id": "ea37bf22",
   "metadata": {},
   "outputs": [],
   "source": [
    "x[:5]"
   ]
  },
  {
   "cell_type": "code",
   "execution_count": null,
   "id": "12504f80",
   "metadata": {},
   "outputs": [],
   "source": [
    "len(x)"
   ]
  },
  {
   "cell_type": "code",
   "execution_count": null,
   "id": "e8620b18",
   "metadata": {},
   "outputs": [],
   "source": [
    "# creating list of all pairs\n",
    "x_list=[]\n",
    "for i in x[:len(x)//2]:\n",
    "    l=len(i)\n",
    "    for j in range(l-1):\n",
    "        x_list.append([i[j],i[j+1]])\n",
    "x_list[:10]"
   ]
  },
  {
   "cell_type": "code",
   "execution_count": null,
   "id": "b756bd39",
   "metadata": {},
   "outputs": [],
   "source": [
    "len(x_list)"
   ]
  },
  {
   "cell_type": "code",
   "execution_count": null,
   "id": "5e25ea29",
   "metadata": {},
   "outputs": [],
   "source": [
    "x_set=[i[0] for i in x_list]\n",
    "y_set=[i[1] for i in x_list]"
   ]
  },
  {
   "cell_type": "code",
   "execution_count": null,
   "id": "ec148ed2",
   "metadata": {},
   "outputs": [],
   "source": [
    "x_set[:5]"
   ]
  },
  {
   "cell_type": "code",
   "execution_count": null,
   "id": "2dfcc0f9",
   "metadata": {},
   "outputs": [],
   "source": [
    "y_set[:5]"
   ]
  },
  {
   "cell_type": "code",
   "execution_count": null,
   "id": "e3159336",
   "metadata": {},
   "outputs": [],
   "source": [
    "vocal_size=len(tokenizer.word_index)+1"
   ]
  },
  {
   "cell_type": "code",
   "execution_count": null,
   "id": "547a66b8",
   "metadata": {},
   "outputs": [],
   "source": [
    "y_set=to_categorical(y_set, num_classes=8000)"
   ]
  },
  {
   "cell_type": "code",
   "execution_count": null,
   "id": "a8ac696e",
   "metadata": {},
   "outputs": [],
   "source": [
    "len(y_set[0])"
   ]
  },
  {
   "cell_type": "code",
   "execution_count": null,
   "id": "6d7ddf2a",
   "metadata": {},
   "outputs": [],
   "source": [
    "model=models.Sequential([\n",
    "    layers.Embedding(8000,10,input_length=1),\n",
    "    layers.LSTM(50),\n",
    "    layers.Dense(8000, activation=\"softmax\")\n",
    "])"
   ]
  },
  {
   "cell_type": "code",
   "execution_count": null,
   "id": "4f69faa6",
   "metadata": {},
   "outputs": [],
   "source": [
    "model.summary()"
   ]
  },
  {
   "cell_type": "code",
   "execution_count": null,
   "id": "33869980",
   "metadata": {},
   "outputs": [],
   "source": [
    "model.compile(optimizer=\"adam\", loss=\"categorical_crossentropy\", metrics=[\"accuracy\"])"
   ]
  },
  {
   "cell_type": "code",
   "execution_count": null,
   "id": "e9e0ca11",
   "metadata": {},
   "outputs": [],
   "source": [
    "x_set=np.array(x_set)\n",
    "y_set=np.array(y_set)"
   ]
  },
  {
   "cell_type": "code",
   "execution_count": null,
   "id": "f605b766",
   "metadata": {},
   "outputs": [],
   "source": [
    "model.fit(x_set, y_set, epochs=200)"
   ]
  },
  {
   "cell_type": "code",
   "execution_count": null,
   "id": "a881e67c",
   "metadata": {},
   "outputs": [],
   "source": [
    "def generate(model, tokenizer, word, times):\n",
    "    in_text, out_text=word, word\n",
    "    \n",
    "    \n",
    "    for i in range(times):\n",
    "        encoded_word=tokenizer.texts_to_sequences([in_text])[0]\n",
    "        \n",
    "        encoded_word=np.array(encoded_word)\n",
    "    \n",
    "        y_pred=np.argmax(model.predict(encoded_word))\n",
    "        \n",
    "        out_word=''\n",
    "        \n",
    "        for text_word, index in tokenizer.word_index.items():\n",
    "            if index==y_pred:\n",
    "                out_word=text_word\n",
    "                break\n",
    "        in_text=out_word\n",
    "        out_text=out_text+\" \"+ out_word\n",
    "    return out_text\n",
    "\n",
    "\n",
    "        "
   ]
  },
  {
   "cell_type": "code",
   "execution_count": null,
   "id": "6fb03597",
   "metadata": {},
   "outputs": [],
   "source": [
    "print(generate(model, tokenizer,'copy' , 5))"
   ]
  },
  {
   "cell_type": "code",
   "execution_count": null,
   "id": "a649aadb",
   "metadata": {},
   "outputs": [],
   "source": []
  }
 ],
 "metadata": {
  "kernelspec": {
   "display_name": "Python 3 (ipykernel)",
   "language": "python",
   "name": "python3"
  },
  "language_info": {
   "codemirror_mode": {
    "name": "ipython",
    "version": 3
   },
   "file_extension": ".py",
   "mimetype": "text/x-python",
   "name": "python",
   "nbconvert_exporter": "python",
   "pygments_lexer": "ipython3",
   "version": "3.10.5"
  }
 },
 "nbformat": 4,
 "nbformat_minor": 5
}
