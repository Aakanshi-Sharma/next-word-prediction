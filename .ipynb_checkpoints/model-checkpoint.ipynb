{
 "cells": [
  {
   "cell_type": "code",
   "execution_count": 1,
   "id": "efcd9058",
   "metadata": {},
   "outputs": [],
   "source": [
    "import numpy as np\n",
    "import pandas as pd\n",
    "import tensorflow as tf\n",
    "from tensorflow import keras\n",
    "from tensorflow.keras import layers, models\n",
    "from keras.preprocessing.text import Tokenizer\n",
    "from keras.utils import to_categorical\n"
   ]
  },
  {
   "cell_type": "code",
   "execution_count": 38,
   "id": "091db69d",
   "metadata": {},
   "outputs": [],
   "source": [
    "df=pd.read_fwf(\"pride_book.txt\", header=None)"
   ]
  },
  {
   "cell_type": "code",
   "execution_count": 39,
   "id": "7ea7d237",
   "metadata": {},
   "outputs": [
    {
     "data": {
      "text/html": [
       "<div>\n",
       "<style scoped>\n",
       "    .dataframe tbody tr th:only-of-type {\n",
       "        vertical-align: middle;\n",
       "    }\n",
       "\n",
       "    .dataframe tbody tr th {\n",
       "        vertical-align: top;\n",
       "    }\n",
       "\n",
       "    .dataframe thead th {\n",
       "        text-align: right;\n",
       "    }\n",
       "</style>\n",
       "<table border=\"1\" class=\"dataframe\">\n",
       "  <thead>\n",
       "    <tr style=\"text-align: right;\">\n",
       "      <th></th>\n",
       "      <th>0</th>\n",
       "    </tr>\n",
       "  </thead>\n",
       "  <tbody>\n",
       "    <tr>\n",
       "      <th>0</th>\n",
       "      <td>The Project Gutenberg eBook of Pride and preju...</td>\n",
       "    </tr>\n",
       "    <tr>\n",
       "      <th>1</th>\n",
       "      <td>This eBook is for the use of anyone anywhere i...</td>\n",
       "    </tr>\n",
       "    <tr>\n",
       "      <th>2</th>\n",
       "      <td>most other parts of the world at no cost and w...</td>\n",
       "    </tr>\n",
       "    <tr>\n",
       "      <th>3</th>\n",
       "      <td>whatsoever. You may copy it, give it away or r...</td>\n",
       "    </tr>\n",
       "    <tr>\n",
       "      <th>4</th>\n",
       "      <td>of the Project Gutenberg License included with...</td>\n",
       "    </tr>\n",
       "  </tbody>\n",
       "</table>\n",
       "</div>"
      ],
      "text/plain": [
       "                                                   0\n",
       "0  The Project Gutenberg eBook of Pride and preju...\n",
       "1  This eBook is for the use of anyone anywhere i...\n",
       "2  most other parts of the world at no cost and w...\n",
       "3  whatsoever. You may copy it, give it away or r...\n",
       "4  of the Project Gutenberg License included with..."
      ]
     },
     "execution_count": 39,
     "metadata": {},
     "output_type": "execute_result"
    }
   ],
   "source": [
    "df.head()"
   ]
  },
  {
   "cell_type": "code",
   "execution_count": 40,
   "id": "bd96ec04",
   "metadata": {},
   "outputs": [
    {
     "data": {
      "text/plain": [
       "(11886, 1)"
      ]
     },
     "execution_count": 40,
     "metadata": {},
     "output_type": "execute_result"
    }
   ],
   "source": [
    "df.shape"
   ]
  },
  {
   "cell_type": "code",
   "execution_count": 41,
   "id": "d072904a",
   "metadata": {},
   "outputs": [],
   "source": [
    "x=df[0].values"
   ]
  },
  {
   "cell_type": "code",
   "execution_count": 42,
   "id": "bd63dba9",
   "metadata": {},
   "outputs": [
    {
     "data": {
      "text/plain": [
       "array(['The Project Gutenberg eBook of Pride and prejudice, by Jane Austen',\n",
       "       'This eBook is for the use of anyone anywhere in the United States and',\n",
       "       'most other parts of the world at no cost and with almost no restrictions',\n",
       "       'whatsoever. You may copy it, give it away or re-use it under the terms',\n",
       "       'of the Project Gutenberg License included with this eBook or online at'],\n",
       "      dtype=object)"
      ]
     },
     "execution_count": 42,
     "metadata": {},
     "output_type": "execute_result"
    }
   ],
   "source": [
    "x[:5]"
   ]
  },
  {
   "cell_type": "code",
   "execution_count": 43,
   "id": "2f3f61cc",
   "metadata": {},
   "outputs": [],
   "source": [
    "tokenizer=Tokenizer(oov_token=\"nothing\")"
   ]
  },
  {
   "cell_type": "code",
   "execution_count": 44,
   "id": "c7258047",
   "metadata": {},
   "outputs": [],
   "source": [
    "tokenizer.fit_on_texts(x)"
   ]
  },
  {
   "cell_type": "code",
   "execution_count": 45,
   "id": "049549df",
   "metadata": {},
   "outputs": [],
   "source": [
    "l=len(tokenizer.word_index)+1"
   ]
  },
  {
   "cell_type": "code",
   "execution_count": 46,
   "id": "e347eb75",
   "metadata": {},
   "outputs": [],
   "source": [
    "x=tokenizer.texts_to_sequences(x)"
   ]
  },
  {
   "cell_type": "code",
   "execution_count": 47,
   "id": "ea37bf22",
   "metadata": {},
   "outputs": [
    {
     "data": {
      "text/plain": [
       "[[2, 183, 164, 1031, 4, 306, 5, 976, 31, 74, 727],\n",
       " [43, 1031, 25, 23, 2, 516, 4, 561, 2717, 8, 2, 702, 780, 5],\n",
       " [96, 81, 1454, 4, 2, 219, 27, 44, 1614, 5, 22, 248, 44, 2718],\n",
       " [3365, 16, 90, 1092, 14, 135, 14, 141, 53, 1809, 516, 14, 390, 2, 379],\n",
       " [4, 2, 183, 164, 809, 2013, 22, 43, 1031, 53, 2014, 27]]"
      ]
     },
     "execution_count": 47,
     "metadata": {},
     "output_type": "execute_result"
    }
   ],
   "source": [
    "x[:5]"
   ]
  },
  {
   "cell_type": "code",
   "execution_count": 48,
   "id": "83e6fa4e",
   "metadata": {},
   "outputs": [
    {
     "data": {
      "text/plain": [
       "11886"
      ]
     },
     "execution_count": 48,
     "metadata": {},
     "output_type": "execute_result"
    }
   ],
   "source": [
    "len(x)"
   ]
  },
  {
   "cell_type": "code",
   "execution_count": 49,
   "id": "e8620b18",
   "metadata": {},
   "outputs": [
    {
     "data": {
      "text/plain": [
       "[[2, 183],\n",
       " [183, 164],\n",
       " [164, 1031],\n",
       " [1031, 4],\n",
       " [4, 306],\n",
       " [306, 5],\n",
       " [5, 976],\n",
       " [976, 31],\n",
       " [31, 74],\n",
       " [74, 727]]"
      ]
     },
     "execution_count": 49,
     "metadata": {},
     "output_type": "execute_result"
    }
   ],
   "source": [
    "# creating list of all pairs\n",
    "x_list=[]\n",
    "for i in x:\n",
    "    l=len(i)\n",
    "    for j in range(l-1):\n",
    "        x_list.append([i[j],i[j+1]])\n",
    "x_list[:10]"
   ]
  },
  {
   "cell_type": "code",
   "execution_count": 50,
   "id": "34f6b14c",
   "metadata": {},
   "outputs": [
    {
     "data": {
      "text/plain": [
       "121163"
      ]
     },
     "execution_count": 50,
     "metadata": {},
     "output_type": "execute_result"
    }
   ],
   "source": [
    "len(x_list)"
   ]
  },
  {
   "cell_type": "code",
   "execution_count": 51,
   "id": "8dbb14b1",
   "metadata": {},
   "outputs": [],
   "source": [
    "x_set=[i[0] for i in x_list]\n",
    "y_set=[i[1] for i in x_list]"
   ]
  },
  {
   "cell_type": "code",
   "execution_count": 52,
   "id": "c733285f",
   "metadata": {},
   "outputs": [
    {
     "data": {
      "text/plain": [
       "[2, 183, 164, 1031, 4]"
      ]
     },
     "execution_count": 52,
     "metadata": {},
     "output_type": "execute_result"
    }
   ],
   "source": [
    "x_set[:5]"
   ]
  },
  {
   "cell_type": "code",
   "execution_count": 53,
   "id": "2644811f",
   "metadata": {},
   "outputs": [
    {
     "data": {
      "text/plain": [
       "[183, 164, 1031, 4, 306]"
      ]
     },
     "execution_count": 53,
     "metadata": {},
     "output_type": "execute_result"
    }
   ],
   "source": [
    "y_set[:5]"
   ]
  },
  {
   "cell_type": "code",
   "execution_count": 54,
   "id": "e6c957f8",
   "metadata": {},
   "outputs": [],
   "source": [
    "vocal_size=len(tokenizer.word_index)+1"
   ]
  },
  {
   "cell_type": "code",
   "execution_count": 56,
   "id": "89951679",
   "metadata": {},
   "outputs": [],
   "source": [
    "y_set=to_categorical(y_set, num_classes=10000)"
   ]
  },
  {
   "cell_type": "code",
   "execution_count": null,
   "id": "28018200",
   "metadata": {},
   "outputs": [],
   "source": []
  }
 ],
 "metadata": {
  "kernelspec": {
   "display_name": "Python 3 (ipykernel)",
   "language": "python",
   "name": "python3"
  },
  "language_info": {
   "codemirror_mode": {
    "name": "ipython",
    "version": 3
   },
   "file_extension": ".py",
   "mimetype": "text/x-python",
   "name": "python",
   "nbconvert_exporter": "python",
   "pygments_lexer": "ipython3",
   "version": "3.10.5"
  }
 },
 "nbformat": 4,
 "nbformat_minor": 5
}
